{
 "cells": [
  {
   "cell_type": "code",
   "execution_count": 62,
   "metadata": {},
   "outputs": [],
   "source": [
    "# деякі допоміжні функції і потрібні модулі\n",
    "\n",
    "import math\n",
    "import numpy as np\n",
    "import matplotlib.pyplot as plt\n",
    "from scipy.signal import find_peaks\n",
    "\n",
    "def create_plot(x, y):\n",
    "    plt.figure(figsize=(10,10))\n",
    "    plt.plot(x,y)\n",
    "    plt.show()\n",
    "\n",
    "# функція що рахує     \n",
    "def a(x, i ,j):\n",
    "    if (i==0) and (j==0):\n",
    "        return pow(x,6)\n",
    "    elif (i==0) and (j==1):\n",
    "        return pow (x,5)\n",
    "    elif ((i==0) and (j==2)) or ((i==1) and (j==1)):\n",
    "        return pow (x,4)\n",
    "    elif (i==0) and (j==3):\n",
    "        return pow(x,3) * math.sin(30 * math.pi * x)\n",
    "    elif ((i==0) and (j==4)) or ((i==1) and (j==2)):\n",
    "        return pow (x,3)\n",
    "    elif (i==1) and (j==3):\n",
    "        return pow (x,2)*math.sin(30*math.pi*x)\n",
    "    elif ((i==1) and (j==4)) or ((i==2) and (j==2)):\n",
    "        return pow (x,2)\n",
    "    elif (i==2) and (j==3):\n",
    "        return x * math.sin(30 * math.pi * x)\n",
    "    elif (i==2) and (j==4):\n",
    "        return x\n",
    "    elif (i==3) and (j==3):\n",
    "        return pow(math.sin(30*math.pi*x),2)\n",
    "    elif (i==3) and (j==4):\n",
    "         return math.sin(30*math.pi*x)\n",
    "    else:\n",
    "         return 1\n",
    "\n",
    "def b(x,y,i):\n",
    "    if i==0:\n",
    "        return y*pow(x,3)\n",
    "    elif i==1:\n",
    "        return y*pow(x,2)\n",
    "    elif i==2:\n",
    "        return y*x\n",
    "    elif i==3:\n",
    "        return y*math.sin(30*math.pi*x)\n",
    "    elif i==4:\n",
    "        return y\n",
    "    \n",
    "def function(a,x):\n",
    "    return a[0]*pow(x,3)+a[1]*pow(x,2)+a[2]*x+a[3]*math.sin(2*math.pi*f*x)+a[4]"
   ]
  },
  {
   "cell_type": "code",
   "execution_count": 63,
   "metadata": {},
   "outputs": [
    {
     "name": "stdout",
     "output_type": "stream",
     "text": [
      "fi = [0.2, 15.0, 20.4]\n",
      "f = 0.2\n"
     ]
    },
    {
     "data": {
      "image/png": "[encoded data removed]",
      "text/plain": [
       "<Figure size 720x720 with 1 Axes>"
      ]
     },
     "metadata": {
      "needs_background": "light"
     },
     "output_type": "display_data"
    }
   ],
   "source": [
    "# знаходження суттєвих внесків частот за спостереженнями\n",
    "\n",
    "T = 5\n",
    "y = np.fromfile('t18.txt', sep=' ')\n",
    "n = len(y)\n",
    "x = np.linspace(0, T, n)\n",
    "\n",
    "fourier = np.fft.fft(y)\n",
    "\n",
    "max, _ = scipy.signal.find_peaks(np.abs(fourier)[:len(fourier)//2])\n",
    "\n",
    "fi = [x/T for x in max if x > 0]\n",
    "\n",
    "f = fi[0]\n",
    "\n",
    "print(f\"fi = {fi}\")\n",
    "print(f\"f = {f}\")\n",
    "\n",
    "plt.figure(figsize=(10, 10))\n",
    "plt.plot(max, np.abs(fourier[max]), \"x\")\n",
    "plt.plot(range(n), np.abs(fourier))\n",
    "plt.show()"
   ]
  },
  {
   "cell_type": "code",
   "execution_count": 64,
   "metadata": {},
   "outputs": [
    {
     "ename": "SyntaxError",
     "evalue": "invalid syntax (<ipython-input-64-6a7021946dfd>, line 2)",
     "output_type": "error",
     "traceback": [
      "\u001b[0;36m  File \u001b[0;32m\"<ipython-input-64-6a7021946dfd>\"\u001b[0;36m, line \u001b[0;32m2\u001b[0m\n\u001b[0;31m    B = np.zeros(5)\u001b[0m\n\u001b[0m    ^\u001b[0m\n\u001b[0;31mSyntaxError\u001b[0m\u001b[0;31m:\u001b[0m invalid syntax\n"
     ]
    }
   ],
   "source": [
    "A = np.zeros((5, 5)\n",
    "B = np.zeros(5)\n",
    "# calculate \n",
    "for k in range(n):\n",
    "    xk = k * 0.01\n",
    "    yk = y[k]\n",
    "    \n",
    "    for i in range(5):\n",
    "        B[i] += b(xk,yk,i)\n",
    "\n",
    "        for j in range(i,5):\n",
    "            A[i][j] += a(xk,i,j)\n",
    "            if i!=j:\n",
    "                A[j][i] += a(xk,i,j)\n",
    "\n",
    "#solving the equation to find ai\n",
    "X = np.linalg.inv(A).dot(B)\n",
    "\n",
    "print(X)\n",
    "\n",
    "F = [function(X, i * 0.01) for i in range(n)]\n",
    "\n",
    "#plot experemental data\n",
    "create_plot(range(n), y)\n",
    "\n",
    "#plot estimated function\n",
    "create_plot(range(n), F)"
   ]
  },
  {
   "cell_type": "code",
   "execution_count": null,
   "metadata": {},
   "outputs": [],
   "source": []
  }
 ],
 "metadata": {
  "kernelspec": {
   "display_name": "Python 3",
   "language": "python",
   "name": "python3"
  },
  "language_info": {
   "codemirror_mode": {
    "name": "ipython",
    "version": 3
   },
   "file_extension": ".py",
   "mimetype": "text/x-python",
   "name": "python",
   "nbconvert_exporter": "python",
   "pygments_lexer": "ipython3",
   "version": "3.7.5"
  }
 },
 "nbformat": 4,
 "nbformat_minor": 1
}
